{
 "cells": [
  {
   "cell_type": "markdown",
   "id": "285e05b3",
   "metadata": {},
   "source": [
    "# Example problem"
   ]
  },
  {
   "cell_type": "code",
   "execution_count": 1,
   "id": "0c1f6647",
   "metadata": {
    "tags": [
     "remove-cell"
    ]
   },
   "outputs": [],
   "source": [
    "import sys\n",
    "\n",
    "sys.path.append(\"../pycode\")\n",
    "\n",
    "from multiplechoice import MultipleChoice"
   ]
  },
  {
   "cell_type": "code",
   "execution_count": 2,
   "id": "0d66f26a",
   "metadata": {
    "tags": [
     "remove-input"
    ]
   },
   "outputs": [
    {
     "ename": "TypeError",
     "evalue": "can only concatenate str (not \"tuple\") to str",
     "output_type": "error",
     "traceback": [
      "\u001b[0;31m---------------------------------------------------------------------------\u001b[0m",
      "\u001b[0;31mTypeError\u001b[0m                                 Traceback (most recent call last)",
      "File \u001b[0;32m~/.cache/pypoetry/virtualenvs/solidstateleipzig-github-io-HqKGpYYK-py3.12/lib/python3.12/site-packages/IPython/core/formatters.py:347\u001b[0m, in \u001b[0;36mBaseFormatter.__call__\u001b[0;34m(self, obj)\u001b[0m\n\u001b[1;32m    345\u001b[0m     method \u001b[38;5;241m=\u001b[39m get_real_method(obj, \u001b[38;5;28mself\u001b[39m\u001b[38;5;241m.\u001b[39mprint_method)\n\u001b[1;32m    346\u001b[0m     \u001b[38;5;28;01mif\u001b[39;00m method \u001b[38;5;129;01mis\u001b[39;00m \u001b[38;5;129;01mnot\u001b[39;00m \u001b[38;5;28;01mNone\u001b[39;00m:\n\u001b[0;32m--> 347\u001b[0m         \u001b[38;5;28;01mreturn\u001b[39;00m \u001b[43mmethod\u001b[49m\u001b[43m(\u001b[49m\u001b[43m)\u001b[49m\n\u001b[1;32m    348\u001b[0m     \u001b[38;5;28;01mreturn\u001b[39;00m \u001b[38;5;28;01mNone\u001b[39;00m\n\u001b[1;32m    349\u001b[0m \u001b[38;5;28;01melse\u001b[39;00m:\n",
      "File \u001b[0;32m/workspaces/solidstateleipzig.github.io/content/l3_groups/../pycode/multiplechoice.py:38\u001b[0m, in \u001b[0;36mMultipleChoice._repr_html_\u001b[0;34m(self)\u001b[0m\n\u001b[1;32m     36\u001b[0m answer \u001b[38;5;241m+\u001b[39m\u001b[38;5;241m=\u001b[39m \u001b[38;5;28mself\u001b[39m\u001b[38;5;241m.\u001b[39manswers[\u001b[38;5;28mself\u001b[39m\u001b[38;5;241m.\u001b[39mcorrect_answer]\n\u001b[1;32m     37\u001b[0m \u001b[38;5;28;01mif\u001b[39;00m \u001b[38;5;28mself\u001b[39m\u001b[38;5;241m.\u001b[39mexplanation \u001b[38;5;129;01mis\u001b[39;00m \u001b[38;5;129;01mnot\u001b[39;00m \u001b[38;5;28;01mNone\u001b[39;00m:\n\u001b[0;32m---> 38\u001b[0m     answer \u001b[38;5;241m+\u001b[39m\u001b[38;5;241m=\u001b[39m \u001b[38;5;124;43mf\u001b[39;49m\u001b[38;5;124;43m\"\u001b[39;49m\u001b[38;5;124;43m<br><i>\u001b[39;49m\u001b[38;5;124;43m\"\u001b[39;49m\u001b[43m \u001b[49m\u001b[38;5;241;43m+\u001b[39;49m\u001b[43m \u001b[49m\u001b[38;5;28;43mself\u001b[39;49m\u001b[38;5;241;43m.\u001b[39;49m\u001b[43mexplanation\u001b[49m \u001b[38;5;241m+\u001b[39m \u001b[38;5;124m\"\u001b[39m\u001b[38;5;124m</i>\u001b[39m\u001b[38;5;124m\"\u001b[39m\n\u001b[1;32m     40\u001b[0m s \u001b[38;5;241m+\u001b[39m\u001b[38;5;241m=\u001b[39m dedent(\n\u001b[1;32m     41\u001b[0m \u001b[38;5;250m    \u001b[39m\u001b[38;5;124;03m\"\"\"\u001b[39;00m\n\u001b[1;32m     42\u001b[0m \u001b[38;5;124;03m<button title=\"Click to show/hide content\" type=\"button\"\u001b[39;00m\n\u001b[0;32m   (...)\u001b[0m\n\u001b[1;32m     48\u001b[0m \u001b[38;5;124;03m<div id=\"{0}\" style=\"display:none\">{1}</div>\"\"\"\u001b[39;00m\n\u001b[1;32m     49\u001b[0m )\n\u001b[1;32m     50\u001b[0m \u001b[38;5;28;01mreturn\u001b[39;00m s\u001b[38;5;241m.\u001b[39mformat(secrets\u001b[38;5;241m.\u001b[39mtoken_urlsafe(\u001b[38;5;241m20\u001b[39m), answer)\n",
      "\u001b[0;31mTypeError\u001b[0m: can only concatenate str (not \"tuple\") to str"
     ]
    },
    {
     "data": {
      "text/plain": [
       "<multiplechoice.MultipleChoice at 0x7b8934408740>"
      ]
     },
     "execution_count": 2,
     "metadata": {},
     "output_type": "execute_result"
    }
   ],
   "source": [
    "question = (\n",
    "    \"How would the topological degeneracy of the ground state that comes from the loop configurations \"\n",
    "    \"change if we put it on a torus (donut) with two holes?\"\n",
    ")\n",
    "\n",
    "answers = [\n",
    "    \"Since there is still an infinite number of loop configurations, the degeneracy would be infinite.\",\n",
    "    \"Since there is one additional hole there are two more distinct cycles. \"\n",
    "    \"So  the number of ground states increases by a factor of 4.\",\n",
    "    \"It still remains 4 since the loops is topologically forbidden from going around the extra loops.\",\n",
    "    \"Since there is one additional hole the loops can go around this hole an even or an odd number of time, \"\n",
    "    \"so the degeneracy increases from 4 to 8.\",\n",
    "]\n",
    "\n",
    "explanation = ()\n",
    "\n",
    "MultipleChoice(\n",
    "    question=question, answers=answers, correct_answer=1, explanation=explanation\n",
    ")"
   ]
  }
 ],
 "metadata": {
  "jupytext": {
   "text_representation": {
    "extension": ".md",
    "format_name": "myst",
    "format_version": 0.13,
    "jupytext_version": "1.11.4"
   }
  },
  "kernelspec": {
   "display_name": "Python 3",
   "language": "python",
   "name": "python3"
  },
  "language_info": {
   "codemirror_mode": {
    "name": "ipython",
    "version": 3
   },
   "file_extension": ".py",
   "mimetype": "text/x-python",
   "name": "python",
   "nbconvert_exporter": "python",
   "pygments_lexer": "ipython3",
   "version": "3.12.1"
  },
  "source_map": [
   12,
   16,
   28
  ]
 },
 "nbformat": 4,
 "nbformat_minor": 5
}