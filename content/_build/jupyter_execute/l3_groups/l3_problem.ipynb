{
 "cells": [
  {
   "cell_type": "markdown",
   "id": "b68fdb5d",
   "metadata": {},
   "source": [
    "# Example problem"
   ]
  },
  {
   "cell_type": "code",
   "execution_count": 1,
   "id": "e7e2fe1b",
   "metadata": {
    "tags": [
     "remove-cell"
    ]
   },
   "outputs": [],
   "source": [
    "import sys\n",
    "\n",
    "sys.path.append(\"../pycode\")\n",
    "\n",
    "from multiplechoice import MultipleChoice"
   ]
  },
  {
   "cell_type": "code",
   "execution_count": 2,
   "id": "f4e24024",
   "metadata": {
    "tags": [
     "remove-cell"
    ]
   },
   "outputs": [
    {
     "data": {
      "text/html": [
       "<h4>How would the topological degeneracy of the ground state that comes from the loop configurations change if we put it on a torus (donut) with two holes?</h4><form><input type=\"radio\" name=\"answer\" value=\"Since there is still an infinite number of loop configurations, the degeneracy would be infinite.\">Since there is still an infinite number of loop configurations, the degeneracy would be infinite.<br><input type=\"radio\" name=\"answer\" value=\"Since there is one additional hole there are two more distinct cycles. So  the number of ground states increases by a factor of 4.\">Since there is one additional hole there are two more distinct cycles. So  the number of ground states increases by a factor of 4.<br><input type=\"radio\" name=\"answer\" value=\"It still remains 4 since the loops is topologically forbidden from going around the extra loops.\">It still remains 4 since the loops is topologically forbidden from going around the extra loops.<br><input type=\"radio\" name=\"answer\" value=\"Since there is one additional hole the loops can go around this hole an even or an odd number of time, so the degeneracy increases from 4 to 8.\">Since there is one additional hole the loops can go around this hole an even or an odd number of time, so the degeneracy increases from 4 to 8.<br></form>\n",
       "<button title=\"Click to show/hide content\" type=\"button\"\n",
       "onclick=\"if(document.getElementById('JH28jvQ9b6rEPmCHwGFpJ5kK2ho')\n",
       " .style.display=='none') {document.getElementById('JH28jvQ9b6rEPmCHwGFpJ5kK2ho')\n",
       " .style.display=''}else{document.getElementById('JH28jvQ9b6rEPmCHwGFpJ5kK2ho')\n",
       " .style.display='none'}\">Show answer</button>\n",
       "\n",
       "<div id=\"JH28jvQ9b6rEPmCHwGFpJ5kK2ho\" style=\"display:none\">The correct answer is: <br>Since there is one additional hole there are two more distinct cycles. So  the number of ground states increases by a factor of 4.<br><i>The additional hole introduces the possibility of 2 values of parity on each extra cycle. This adds a factor of $2 \\times 2=4$.</i></div>"
      ],
      "text/plain": [
       "<multiplechoice.MultipleChoice at 0x738d194ba5a0>"
      ]
     },
     "execution_count": 2,
     "metadata": {},
     "output_type": "execute_result"
    }
   ],
   "source": [
    "question = (\n",
    "    \"How would the topological degeneracy of the ground state that comes from the loop configurations \"\n",
    "    \"change if we put it on a torus (donut) with two holes?\"\n",
    ")\n",
    "\n",
    "answers = [\n",
    "    \"Since there is still an infinite number of loop configurations, the degeneracy would be infinite.\",\n",
    "    \"Since there is one additional hole there are two more distinct cycles. \"\n",
    "    \"So  the number of ground states increases by a factor of 4.\",\n",
    "    \"It still remains 4 since the loops is topologically forbidden from going around the extra loops.\",\n",
    "    \"Since there is one additional hole the loops can go around this hole an even or an odd number of time, \"\n",
    "    \"so the degeneracy increases from 4 to 8.\",\n",
    "]\n",
    "\n",
    "explanation = (\n",
    "    \"The additional hole introduces the possibility of 2 values of parity on each extra cycle. This adds a \"\n",
    "    \"factor of $2 \\\\times 2=4$.\"\n",
    ")\n",
    "\n",
    "MultipleChoice(\n",
    "    question=question, answers=answers, correct_answer=1, explanation=explanation\n",
    ")"
   ]
  }
 ],
 "metadata": {
  "jupytext": {
   "text_representation": {
    "extension": ".md",
    "format_name": "myst",
    "format_version": 0.13,
    "jupytext_version": "1.11.4"
   }
  },
  "kernelspec": {
   "display_name": "Python 3",
   "language": "python",
   "name": "python3"
  },
  "language_info": {
   "codemirror_mode": {
    "name": "ipython",
    "version": 3
   },
   "file_extension": ".py",
   "mimetype": "text/x-python",
   "name": "python",
   "nbconvert_exporter": "python",
   "pygments_lexer": "ipython3",
   "version": "3.12.1"
  },
  "source_map": [
   12,
   16,
   28
  ]
 },
 "nbformat": 4,
 "nbformat_minor": 5
}