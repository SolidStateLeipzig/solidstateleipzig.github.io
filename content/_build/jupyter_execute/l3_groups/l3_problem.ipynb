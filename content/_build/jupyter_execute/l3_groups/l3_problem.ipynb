{
 "cells": [
  {
   "cell_type": "markdown",
   "id": "e92e1419",
   "metadata": {},
   "source": [
    "# Example problem"
   ]
  },
  {
   "cell_type": "code",
   "execution_count": 1,
   "id": "195702ee",
   "metadata": {
    "tags": [
     "remove-cell"
    ]
   },
   "outputs": [],
   "source": [
    "import sys\n",
    "\n",
    "sys.path.append(\"../pycode\")\n",
    "\n",
    "from multiplechoice import MultipleChoice"
   ]
  },
  {
   "cell_type": "code",
   "execution_count": 2,
   "id": "2e024360",
   "metadata": {
    "tags": [
     "remove-input"
    ]
   },
   "outputs": [
    {
     "ename": "NameError",
     "evalue": "name 'Explanation' is not defined",
     "output_type": "error",
     "traceback": [
      "\u001b[0;31m---------------------------------------------------------------------------\u001b[0m",
      "\u001b[0;31mNameError\u001b[0m                                 Traceback (most recent call last)",
      "Cell \u001b[0;32mIn[2], line 15\u001b[0m\n\u001b[1;32m      1\u001b[0m question \u001b[38;5;241m=\u001b[39m (\n\u001b[1;32m      2\u001b[0m     \u001b[38;5;124m\"\u001b[39m\u001b[38;5;124mHow would the topological degeneracy of the ground state that comes from the loop configurations \u001b[39m\u001b[38;5;124m\"\u001b[39m\n\u001b[1;32m      3\u001b[0m     \u001b[38;5;124m\"\u001b[39m\u001b[38;5;124mchange if we put it on a torus (donut) with two holes?\u001b[39m\u001b[38;5;124m\"\u001b[39m\n\u001b[1;32m      4\u001b[0m )\n\u001b[1;32m      6\u001b[0m answers \u001b[38;5;241m=\u001b[39m [\n\u001b[1;32m      7\u001b[0m     \u001b[38;5;124m\"\u001b[39m\u001b[38;5;124mSince there is still an infinite number of loop configurations, the degeneracy would be infinite.\u001b[39m\u001b[38;5;124m\"\u001b[39m,\n\u001b[1;32m      8\u001b[0m     \u001b[38;5;124m\"\u001b[39m\u001b[38;5;124mSince there is one additional hole there are two more distinct cycles. \u001b[39m\u001b[38;5;124m\"\u001b[39m\n\u001b[0;32m   (...)\u001b[0m\n\u001b[1;32m     12\u001b[0m     \u001b[38;5;124m\"\u001b[39m\u001b[38;5;124mso the degeneracy increases from 4 to 8.\u001b[39m\u001b[38;5;124m\"\u001b[39m,\n\u001b[1;32m     13\u001b[0m ]\n\u001b[0;32m---> 15\u001b[0m explanation \u001b[38;5;241m=\u001b[39m (\u001b[43mExplanation\u001b[49m)\n\u001b[1;32m     17\u001b[0m MultipleChoice(\n\u001b[1;32m     18\u001b[0m     question\u001b[38;5;241m=\u001b[39mquestion, answers\u001b[38;5;241m=\u001b[39manswers, correct_answer\u001b[38;5;241m=\u001b[39m\u001b[38;5;241m1\u001b[39m, explanation\u001b[38;5;241m=\u001b[39mexplanation\n\u001b[1;32m     19\u001b[0m )\n",
      "\u001b[0;31mNameError\u001b[0m: name 'Explanation' is not defined"
     ]
    }
   ],
   "source": [
    "question = (\n",
    "    \"How would the topological degeneracy of the ground state that comes from the loop configurations \"\n",
    "    \"change if we put it on a torus (donut) with two holes?\"\n",
    ")\n",
    "\n",
    "answers = [\n",
    "    \"Since there is still an infinite number of loop configurations, the degeneracy would be infinite.\",\n",
    "    \"Since there is one additional hole there are two more distinct cycles. \"\n",
    "    \"So  the number of ground states increases by a factor of 4.\",\n",
    "    \"It still remains 4 since the loops is topologically forbidden from going around the extra loops.\",\n",
    "    \"Since there is one additional hole the loops can go around this hole an even or an odd number of time, \"\n",
    "    \"so the degeneracy increases from 4 to 8.\",\n",
    "]\n",
    "\n",
    "explanation = (Explanation)\n",
    "\n",
    "MultipleChoice(\n",
    "    question=question, answers=answers, correct_answer=1, explanation=explanation\n",
    ")"
   ]
  }
 ],
 "metadata": {
  "jupytext": {
   "text_representation": {
    "extension": ".md",
    "format_name": "myst",
    "format_version": 0.13,
    "jupytext_version": "1.11.4"
   }
  },
  "kernelspec": {
   "display_name": "Python 3",
   "language": "python",
   "name": "python3"
  },
  "language_info": {
   "codemirror_mode": {
    "name": "ipython",
    "version": 3
   },
   "file_extension": ".py",
   "mimetype": "text/x-python",
   "name": "python",
   "nbconvert_exporter": "python",
   "pygments_lexer": "ipython3",
   "version": "3.12.1"
  },
  "source_map": [
   12,
   16,
   28
  ]
 },
 "nbformat": 4,
 "nbformat_minor": 5
}