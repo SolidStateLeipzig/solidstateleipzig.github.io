{
 "cells": [
  {
   "cell_type": "markdown",
   "id": "270b48f9",
   "metadata": {},
   "source": [
    "# Example problem"
   ]
  },
  {
   "cell_type": "code",
   "execution_count": 1,
   "id": "d3c95df1",
   "metadata": {
    "tags": [
     "remove-cell"
    ]
   },
   "outputs": [],
   "source": [
    "import sys\n",
    "\n",
    "sys.path.append(\"../pycode\")\n",
    "\n",
    "from multiplechoice import MultipleChoice"
   ]
  },
  {
   "cell_type": "code",
   "execution_count": 2,
   "id": "9dc7f26d",
   "metadata": {
    "tags": [
     "remove-input"
    ]
   },
   "outputs": [
    {
     "data": {
      "text/html": [
       "<h4>How would the topological degeneracy of the ground state that comes from the loop configurations change if we put it on a torus (donut) with two holes?</h4><form><input type=\"radio\" name=\"answer\" value=\"Since there is still an infinite number of loop configurations, the degeneracy would be infinite.\">Since there is still an infinite number of loop configurations, the degeneracy would be infinite.<br><input type=\"radio\" name=\"answer\" value=\"Since there is one additional hole there are two more distinct cycles. So  the number of ground states increases by a factor of 4.\">Since there is one additional hole there are two more distinct cycles. So  the number of ground states increases by a factor of 4.<br><input type=\"radio\" name=\"answer\" value=\"It still remains 4 since the loops is topologically forbidden from going around the extra loops.\">It still remains 4 since the loops is topologically forbidden from going around the extra loops.<br><input type=\"radio\" name=\"answer\" value=\"Since there is one additional hole the loops can go around this hole an even or an odd number of time, so the degeneracy increases from 4 to 8.\">Since there is one additional hole the loops can go around this hole an even or an odd number of time, so the degeneracy increases from 4 to 8.<br></form>\n",
       "<button title=\"Click to show/hide content\" type=\"button\"\n",
       "onclick=\"if(document.getElementById('YHsPwZhovOGRyrcxJGwtWIagiGE')\n",
       " .style.display=='none') {document.getElementById('YHsPwZhovOGRyrcxJGwtWIagiGE')\n",
       " .style.display=''}else{document.getElementById('YHsPwZhovOGRyrcxJGwtWIagiGE')\n",
       " .style.display='none'}\">Show answer</button>\n",
       "\n",
       "<div id=\"YHsPwZhovOGRyrcxJGwtWIagiGE\" style=\"display:none\">The correct answer is: <br>Since there is one additional hole there are two more distinct cycles. So  the number of ground states increases by a factor of 4.<br><i>Explanation</i></div>"
      ],
      "text/plain": [
       "<multiplechoice.MultipleChoice at 0x79faa11b1af0>"
      ]
     },
     "execution_count": 2,
     "metadata": {},
     "output_type": "execute_result"
    }
   ],
   "source": [
    "question = (\n",
    "    \"How would the topological degeneracy of the ground state that comes from the loop configurations \"\n",
    "    \"change if we put it on a torus (donut) with two holes?\"\n",
    ")\n",
    "\n",
    "answers = [\n",
    "    \"Since there is still an infinite number of loop configurations, the degeneracy would be infinite.\",\n",
    "    \"Since there is one additional hole there are two more distinct cycles. \"\n",
    "    \"So  the number of ground states increases by a factor of 4.\",\n",
    "    \"It still remains 4 since the loops is topologically forbidden from going around the extra loops.\",\n",
    "    \"Since there is one additional hole the loops can go around this hole an even or an odd number of time, \"\n",
    "    \"so the degeneracy increases from 4 to 8.\",\n",
    "]\n",
    "\n",
    "explanation = (\"Explanation\")\n",
    "\n",
    "MultipleChoice(\n",
    "    question=question, answers=answers, correct_answer=1, explanation=explanation\n",
    ")"
   ]
  }
 ],
 "metadata": {
  "jupytext": {
   "text_representation": {
    "extension": ".md",
    "format_name": "myst",
    "format_version": 0.13,
    "jupytext_version": "1.11.4"
   }
  },
  "kernelspec": {
   "display_name": "Python 3",
   "language": "python",
   "name": "python3"
  },
  "language_info": {
   "codemirror_mode": {
    "name": "ipython",
    "version": 3
   },
   "file_extension": ".py",
   "mimetype": "text/x-python",
   "name": "python",
   "nbconvert_exporter": "python",
   "pygments_lexer": "ipython3",
   "version": "3.12.1"
  },
  "source_map": [
   12,
   16,
   28
  ]
 },
 "nbformat": 4,
 "nbformat_minor": 5
}